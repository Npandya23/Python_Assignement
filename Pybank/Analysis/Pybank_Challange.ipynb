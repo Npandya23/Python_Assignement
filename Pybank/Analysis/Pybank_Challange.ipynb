{
 "cells": [
  {
   "cell_type": "code",
   "execution_count": 1,
   "id": "4a42fa19",
   "metadata": {},
   "outputs": [],
   "source": [
    "import os\n",
    "import csv\n",
    "import pandas as pd"
   ]
  },
  {
   "cell_type": "code",
   "execution_count": 2,
   "id": "08f8ce93",
   "metadata": {},
   "outputs": [
    {
     "data": {
      "text/html": [
       "<div>\n",
       "<style scoped>\n",
       "    .dataframe tbody tr th:only-of-type {\n",
       "        vertical-align: middle;\n",
       "    }\n",
       "\n",
       "    .dataframe tbody tr th {\n",
       "        vertical-align: top;\n",
       "    }\n",
       "\n",
       "    .dataframe thead th {\n",
       "        text-align: right;\n",
       "    }\n",
       "</style>\n",
       "<table border=\"1\" class=\"dataframe\">\n",
       "  <thead>\n",
       "    <tr style=\"text-align: right;\">\n",
       "      <th></th>\n",
       "      <th>Date</th>\n",
       "      <th>Profit/Losses</th>\n",
       "    </tr>\n",
       "  </thead>\n",
       "  <tbody>\n",
       "    <tr>\n",
       "      <th>0</th>\n",
       "      <td>Jan-10</td>\n",
       "      <td>1088983</td>\n",
       "    </tr>\n",
       "    <tr>\n",
       "      <th>1</th>\n",
       "      <td>Feb-10</td>\n",
       "      <td>-354534</td>\n",
       "    </tr>\n",
       "    <tr>\n",
       "      <th>2</th>\n",
       "      <td>Mar-10</td>\n",
       "      <td>276622</td>\n",
       "    </tr>\n",
       "    <tr>\n",
       "      <th>3</th>\n",
       "      <td>Apr-10</td>\n",
       "      <td>-728133</td>\n",
       "    </tr>\n",
       "    <tr>\n",
       "      <th>4</th>\n",
       "      <td>May-10</td>\n",
       "      <td>852993</td>\n",
       "    </tr>\n",
       "    <tr>\n",
       "      <th>...</th>\n",
       "      <td>...</td>\n",
       "      <td>...</td>\n",
       "    </tr>\n",
       "    <tr>\n",
       "      <th>81</th>\n",
       "      <td>Oct-16</td>\n",
       "      <td>-729004</td>\n",
       "    </tr>\n",
       "    <tr>\n",
       "      <th>82</th>\n",
       "      <td>Nov-16</td>\n",
       "      <td>-112209</td>\n",
       "    </tr>\n",
       "    <tr>\n",
       "      <th>83</th>\n",
       "      <td>Dec-16</td>\n",
       "      <td>516313</td>\n",
       "    </tr>\n",
       "    <tr>\n",
       "      <th>84</th>\n",
       "      <td>Jan-17</td>\n",
       "      <td>607208</td>\n",
       "    </tr>\n",
       "    <tr>\n",
       "      <th>85</th>\n",
       "      <td>Feb-17</td>\n",
       "      <td>382539</td>\n",
       "    </tr>\n",
       "  </tbody>\n",
       "</table>\n",
       "<p>86 rows × 2 columns</p>\n",
       "</div>"
      ],
      "text/plain": [
       "      Date  Profit/Losses\n",
       "0   Jan-10        1088983\n",
       "1   Feb-10        -354534\n",
       "2   Mar-10         276622\n",
       "3   Apr-10        -728133\n",
       "4   May-10         852993\n",
       "..     ...            ...\n",
       "81  Oct-16        -729004\n",
       "82  Nov-16        -112209\n",
       "83  Dec-16         516313\n",
       "84  Jan-17         607208\n",
       "85  Feb-17         382539\n",
       "\n",
       "[86 rows x 2 columns]"
      ]
     },
     "execution_count": 2,
     "metadata": {},
     "output_type": "execute_result"
    }
   ],
   "source": [
    "budget_data = pd.read_csv(\"C:/Users/ninad/Downloads/U OF T_Module Challange/Python_Challange/Starter_Code/PyBank/Resources/budget_data.csv\")\n",
    "budget_data"
   ]
  },
  {
   "cell_type": "code",
   "execution_count": 4,
   "id": "2963bd9e",
   "metadata": {},
   "outputs": [
    {
     "name": "stdout",
     "output_type": "stream",
     "text": [
      "Financial Analysis\n",
      "-------------------------\n",
      "Total_Months: 86\n",
      "Total: $ 22564198\n",
      "Average Change: $-8311.11\n",
      "Greatest increase in Profits : Aug-16 $1862002.0\n",
      "Greatest Decrease in Profits : Feb-14 $-1825558.0\n"
     ]
    }
   ],
   "source": [
    "# This line is to Print Title as an Financial Analysis\n",
    "print(\"Financial Analysis\\n-------------------------\")\n",
    "# We are using nunique function to find total months of budget Data in this next line of Code\n",
    "Total_Months = budget_data[\"Date\"].nunique()\n",
    "# Print result of Total Months\n",
    "print(\"Total_Months:\" , Total_Months)\n",
    "# Defining Symbol as a String to display $ in amount,profits and losses\n",
    "currency_symbol =\"$\"\n",
    "# Summing collumn named as Profit/Losses from Budgget Data CSV file to find  Total\n",
    "Profit_Loss = budget_data[\"Profit/Losses\"].sum()\n",
    "# Print total as a Profit\n",
    "print(\"Total: $\",Profit_Loss)\n",
    "# Max Profit Variable will store result for Average Change. This is done by using differentiation and mean function\n",
    "Max_profit=budget_data[\"Profit/Losses\"].diff().mean().round(2)\n",
    "# Printing Average Change happend in Budget Data\n",
    "print(\"Average Change:\",f\"{currency_symbol}{Max_profit}\")\n",
    "# Finding maximum increase in budget data\n",
    "increase_profit=budget_data[\"Profit/Losses\"].diff().max()\n",
    "increase_profit_n= budget_data.loc[budget_data[\"Profit/Losses\"].diff() == increase_profit, \"Date\"].values[0]\n",
    "# Printing Greatest Increase in Budget Data\n",
    "print(\"Greatest increase in Profits :\",increase_profit_n,f\"{currency_symbol}{increase_profit}\")\n",
    "# Finding maximum Decrease in budget data\n",
    "Decrease_profit=budget_data[\"Profit/Losses\"].diff().min()\n",
    "Decrease_profit_n= budget_data.loc[budget_data[\"Profit/Losses\"].diff() == Decrease_profit, \"Date\"].values[0]\n",
    "# Printing Greatest Decrease in Budget Data\n",
    "print(\"Greatest Decrease in Profits :\",Decrease_profit_n,f\"{currency_symbol}{Decrease_profit}\")"
   ]
  },
  {
   "cell_type": "code",
   "execution_count": null,
   "id": "376ecdf8",
   "metadata": {},
   "outputs": [],
   "source": []
  }
 ],
 "metadata": {
  "kernelspec": {
   "display_name": "Python 3 (ipykernel)",
   "language": "python",
   "name": "python3"
  },
  "language_info": {
   "codemirror_mode": {
    "name": "ipython",
    "version": 3
   },
   "file_extension": ".py",
   "mimetype": "text/x-python",
   "name": "python",
   "nbconvert_exporter": "python",
   "pygments_lexer": "ipython3",
   "version": "3.10.9"
  }
 },
 "nbformat": 4,
 "nbformat_minor": 5
}
